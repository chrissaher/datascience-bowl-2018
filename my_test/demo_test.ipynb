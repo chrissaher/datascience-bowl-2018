{
 "cells": [
  {
   "cell_type": "code",
   "execution_count": 1,
   "metadata": {},
   "outputs": [
    {
     "name": "stderr",
     "output_type": "stream",
     "text": [
      "Using TensorFlow backend.\n"
     ]
    },
    {
     "data": {
      "text/plain": [
       "'2.1.3'"
      ]
     },
     "execution_count": 1,
     "metadata": {},
     "output_type": "execute_result"
    }
   ],
   "source": [
    "import os\n",
    "import sys\n",
    "nb_dir = os.path.split(os.getcwd())[0]\n",
    "if nb_dir not in sys.path:\n",
    "    sys.path.append(nb_dir)\n",
    "from utils.helpers import *\n",
    "import keras\n",
    "from keras import layers\n",
    "from keras import models\n",
    "from keras import optimizers\n",
    "import numpy as np\n",
    "from matplotlib.pyplot import imshow\n",
    "import h5py\n",
    "%matplotlib inline\n",
    "keras.__version__"
   ]
  },
  {
   "cell_type": "code",
   "execution_count": 2,
   "metadata": {
    "collapsed": true
   },
   "outputs": [],
   "source": [
    "IMAGE_ID = 3\n",
    "PADDING = 47\n",
    "image, mask = get_image_mask_from_id(IMAGE_ID)\n",
    "image = image / 255."
   ]
  },
  {
   "cell_type": "code",
   "execution_count": 3,
   "metadata": {},
   "outputs": [
    {
     "data": {
      "text/plain": [
       "int"
      ]
     },
     "execution_count": 3,
     "metadata": {},
     "output_type": "execute_result"
    }
   ],
   "source": [
    "test = apply_padding(image, padding=PADDING)\n",
    "H, W, C = test.shape\n",
    "type(H)\n",
    "type(W)\n",
    "type(C)"
   ]
  },
  {
   "cell_type": "code",
   "execution_count": null,
   "metadata": {
    "collapsed": true
   },
   "outputs": [],
   "source": [
    "old_model = models.load_model(\"train_state_2.h5\")"
   ]
  },
  {
   "cell_type": "code",
   "execution_count": null,
   "metadata": {
    "collapsed": true
   },
   "outputs": [],
   "source": [
    "Ws = []\n",
    "bs = []\n",
    "for layer in old_model.layers:\n",
    "    if len(layer.get_weights()) > 0:\n",
    "        W, b = layer.get_weights()\n",
    "        Ws.append(W)\n",
    "        bs.append(b)\n",
    "        \n",
    "Ws[4] = Ws[4].reshape(4,4,256,200)\n",
    "Ws[5] = Ws[5].reshape(1,1,200,3)\n",
    "\n",
    "# for w in Ws:\n",
    "#     print(w.shape)\n",
    "# print(Ws)"
   ]
  },
  {
   "cell_type": "code",
   "execution_count": 9,
   "metadata": {},
   "outputs": [
    {
     "name": "stdout",
     "output_type": "stream",
     "text": [
      "_________________________________________________________________\n",
      "Layer (type)                 Output Shape              Param #   \n",
      "=================================================================\n",
      "input_5 (InputLayer)         (None, 95, 95, 3)         0         \n",
      "_________________________________________________________________\n",
      "CONV1 (Conv2D)               (None, 95, 95, 32)        128       \n",
      "_________________________________________________________________\n",
      "batch_normalization_17 (Batc (None, 95, 95, 32)        128       \n",
      "_________________________________________________________________\n",
      "MP1 (MaxPooling2D)           (None, 47, 47, 32)        0         \n",
      "_________________________________________________________________\n",
      "CONV2 (Conv2D)               (None, 45, 45, 64)        18496     \n",
      "_________________________________________________________________\n",
      "batch_normalization_18 (Batc (None, 45, 45, 64)        256       \n",
      "_________________________________________________________________\n",
      "MP2 (MaxPooling2D)           (None, 22, 22, 64)        0         \n",
      "_________________________________________________________________\n",
      "CONV3 (Conv2D)               (None, 20, 20, 128)       73856     \n",
      "_________________________________________________________________\n",
      "batch_normalization_19 (Batc (None, 20, 20, 128)       512       \n",
      "_________________________________________________________________\n",
      "MP3 (MaxPooling2D)           (None, 10, 10, 128)       0         \n",
      "_________________________________________________________________\n",
      "CONV4 (Conv2D)               (None, 8, 8, 256)         295168    \n",
      "_________________________________________________________________\n",
      "batch_normalization_20 (Batc (None, 8, 8, 256)         1024      \n",
      "_________________________________________________________________\n",
      "flatten_4 (Flatten)          (None, 16384)             0         \n",
      "_________________________________________________________________\n",
      "dropout_7 (Dropout)          (None, 16384)             0         \n",
      "_________________________________________________________________\n",
      "DENSE (Dense)                (None, 200)               3277000   \n",
      "_________________________________________________________________\n",
      "dropout_8 (Dropout)          (None, 200)               0         \n",
      "_________________________________________________________________\n",
      "SOFTMAX (Dense)              (None, 3)                 603       \n",
      "=================================================================\n",
      "Total params: 3,667,171\n",
      "Trainable params: 3,666,211\n",
      "Non-trainable params: 960\n",
      "_________________________________________________________________\n"
     ]
    },
    {
     "name": "stderr",
     "output_type": "stream",
     "text": [
      "/Users/csaravia/anaconda3/lib/python3.6/site-packages/ipykernel_launcher.py:22: UserWarning: Update your `Model` call to the Keras 2 API: `Model(inputs=Tensor(\"in..., outputs=Tensor(\"SO...)`\n"
     ]
    }
   ],
   "source": [
    "img_input = layers.Input(shape=(95, 95, 3))\n",
    "x = layers.Conv2D(32, (1, 1), activation='relu', name=\"CONV1\")(img_input)\n",
    "x = layers.BatchNormalization()(x)\n",
    "x = layers.MaxPooling2D((2, 2), strides=(2,2), name=\"MP1\")(x)\n",
    "\n",
    "x = layers.Conv2D(64, (3, 3), activation='relu', name=\"CONV2\")(x)\n",
    "x = layers.BatchNormalization()(x)\n",
    "x = layers.MaxPooling2D((2, 2), name=\"MP2\")(x)\n",
    "\n",
    "x = layers.Conv2D(128, (3, 3), activation='relu', name=\"CONV3\")(x)\n",
    "x = layers.BatchNormalization()(x)\n",
    "x = layers.MaxPooling2D((2, 2), strides=(2,2), name=\"MP3\")(x)\n",
    "\n",
    "x = layers.Conv2D(256, (3, 3), activation='relu', name=\"CONV4\")(x)\n",
    "x = layers.BatchNormalization()(x)\n",
    "\n",
    "x = layers.Flatten()(x)\n",
    "x = layers.Dropout(0.5)(x)\n",
    "x = layers.Dense(200, activation='relu', name='DENSE')(x)\n",
    "x = layers.Dropout(0.5)(x)\n",
    "x = layers.Dense(3, activation='softmax', name='SOFTMAX')(x)\n",
    "model = models.Model(input = img_input, output = x)\n",
    "model.summary()"
   ]
  },
  {
   "cell_type": "code",
   "execution_count": 5,
   "metadata": {},
   "outputs": [],
   "source": [
    "from keras.utils import plot_model\n",
    "plot_model(model, to_file='model.png')"
   ]
  },
  {
   "cell_type": "code",
   "execution_count": 16,
   "metadata": {},
   "outputs": [
    {
     "name": "stdout",
     "output_type": "stream",
     "text": [
      "_________________________________________________________________\n",
      "Layer (type)                 Output Shape              Param #   \n",
      "=================================================================\n",
      "input_12 (InputLayer)        (None, 350, 350, 3)       0         \n",
      "_________________________________________________________________\n",
      "CONV1 (Conv2D)               (None, 350, 350, 32)      128       \n",
      "_________________________________________________________________\n",
      "batch_normalization_45 (Batc (None, 350, 350, 32)      128       \n",
      "_________________________________________________________________\n",
      "MP1 (MaxPooling2D)           (None, 175, 175, 32)      0         \n",
      "_________________________________________________________________\n",
      "CONV2 (Conv2D)               (None, 173, 173, 64)      18496     \n",
      "_________________________________________________________________\n",
      "batch_normalization_46 (Batc (None, 173, 173, 64)      256       \n",
      "_________________________________________________________________\n",
      "MP2 (MaxPooling2D)           (None, 86, 86, 64)        0         \n",
      "_________________________________________________________________\n",
      "CONV3 (Conv2D)               (None, 84, 84, 128)       73856     \n",
      "_________________________________________________________________\n",
      "batch_normalization_47 (Batc (None, 84, 84, 128)       512       \n",
      "_________________________________________________________________\n",
      "MP3 (MaxPooling2D)           (None, 42, 42, 128)       0         \n",
      "_________________________________________________________________\n",
      "CONV4 (Conv2D)               (None, 40, 40, 256)       295168    \n",
      "_________________________________________________________________\n",
      "batch_normalization_48 (Batc (None, 40, 40, 256)       1024      \n",
      "_________________________________________________________________\n",
      "CONV5 (Conv2D)               (None, 33, 33, 200)       3277000   \n",
      "_________________________________________________________________\n",
      "CONV6 (Conv2D)               (None, 33, 33, 3)         603       \n",
      "=================================================================\n",
      "Total params: 3,667,171\n",
      "Trainable params: 3,666,211\n",
      "Non-trainable params: 960\n",
      "_________________________________________________________________\n"
     ]
    },
    {
     "name": "stderr",
     "output_type": "stream",
     "text": [
      "/Users/csaravia/anaconda3/lib/python3.6/site-packages/ipykernel_launcher.py:20: UserWarning: Update your `Model` call to the Keras 2 API: `Model(inputs=Tensor(\"in..., outputs=Tensor(\"CO...)`\n"
     ]
    }
   ],
   "source": [
    "img_input = layers.Input(shape=(H, W, 3))\n",
    "x = layers.Conv2D(32, (1, 1), activation='relu', name=\"CONV1\")(img_input)\n",
    "x = layers.BatchNormalization()(x)\n",
    "x = layers.MaxPooling2D((2, 2), strides=(2,2), name=\"MP1\")(x)\n",
    "\n",
    "x = layers.Conv2D(64, (3, 3), activation='relu', name=\"CONV2\")(x)\n",
    "x = layers.BatchNormalization()(x)\n",
    "x = layers.MaxPooling2D((2, 2), name=\"MP2\")(x)\n",
    "\n",
    "x = layers.Conv2D(128, (3, 3), activation='relu', name=\"CONV3\")(x)\n",
    "x = layers.BatchNormalization()(x)\n",
    "x = layers.MaxPooling2D((2, 2), strides=(2,2), name=\"MP3\")(x)\n",
    "\n",
    "x = layers.Conv2D(256, (3, 3), activation='relu', name=\"CONV4\")(x)\n",
    "x = layers.BatchNormalization()(x)\n",
    "\n",
    "x = layers.Conv2D(200, (8, 8), activation='relu', name=\"CONV5\")(x)\n",
    "x = layers.Conv2D(3, (1, 1), activation='relu', name=\"CONV6\")(x)\n",
    "\n",
    "model = models.Model(input = img_input, output = x)\n",
    "model.summary()"
   ]
  },
  {
   "cell_type": "code",
   "execution_count": null,
   "metadata": {
    "collapsed": true
   },
   "outputs": [],
   "source": [
    "# Predict using model\n",
    "tests = []\n",
    "tests.append(test)\n",
    "tests = np.array(tests)\n",
    "predictions = model.predict(tests)"
   ]
  },
  {
   "cell_type": "code",
   "execution_count": null,
   "metadata": {
    "collapsed": true
   },
   "outputs": [],
   "source": [
    "prediction = predictions[0]\n",
    "\n",
    "imshow(prediction)"
   ]
  },
  {
   "cell_type": "code",
   "execution_count": null,
   "metadata": {
    "collapsed": true
   },
   "outputs": [],
   "source": [
    "pred = np.argmax(prediction, axis = -1)\n",
    "imshow(pred)"
   ]
  },
  {
   "cell_type": "code",
   "execution_count": null,
   "metadata": {
    "collapsed": true
   },
   "outputs": [],
   "source": [
    "prediction"
   ]
  },
  {
   "cell_type": "code",
   "execution_count": null,
   "metadata": {
    "collapsed": true
   },
   "outputs": [],
   "source": []
  }
 ],
 "metadata": {
  "kernelspec": {
   "display_name": "Python 3",
   "language": "python",
   "name": "python3"
  },
  "language_info": {
   "codemirror_mode": {
    "name": "ipython",
    "version": 3
   },
   "file_extension": ".py",
   "mimetype": "text/x-python",
   "name": "python",
   "nbconvert_exporter": "python",
   "pygments_lexer": "ipython3",
   "version": "3.6.3"
  }
 },
 "nbformat": 4,
 "nbformat_minor": 2
}
