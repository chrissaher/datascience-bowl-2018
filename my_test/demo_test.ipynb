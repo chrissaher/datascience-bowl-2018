{
 "cells": [
  {
   "cell_type": "code",
   "execution_count": 1,
   "metadata": {},
   "outputs": [
    {
     "name": "stderr",
     "output_type": "stream",
     "text": [
      "Using TensorFlow backend.\n"
     ]
    },
    {
     "data": {
      "text/plain": [
       "'2.1.3'"
      ]
     },
     "execution_count": 1,
     "metadata": {},
     "output_type": "execute_result"
    }
   ],
   "source": [
    "import os\n",
    "import sys\n",
    "nb_dir = os.path.split(os.getcwd())[0]\n",
    "if nb_dir not in sys.path:\n",
    "    sys.path.append(nb_dir)\n",
    "from utils.helpers import *\n",
    "import keras\n",
    "from keras import layers\n",
    "from keras import models\n",
    "from keras import optimizers\n",
    "import numpy as np\n",
    "from matplotlib.pyplot import imshow\n",
    "import h5py\n",
    "%matplotlib inline\n",
    "keras.__version__"
   ]
  },
  {
   "cell_type": "code",
   "execution_count": 2,
   "metadata": {
    "collapsed": true
   },
   "outputs": [],
   "source": [
    "IMAGE_ID = 5\n",
    "PADDING = 47\n",
    "image, mask = get_image_mask_from_id(IMAGE_ID)\n",
    "image = image / 255."
   ]
  },
  {
   "cell_type": "code",
   "execution_count": 97,
   "metadata": {},
   "outputs": [],
   "source": [
    "test = image\n",
    "H, W, C = test.shape"
   ]
  },
  {
   "cell_type": "code",
   "execution_count": 43,
   "metadata": {
    "collapsed": true
   },
   "outputs": [],
   "source": [
    "old_model = models.load_model(\"new_state.h5\")"
   ]
  },
  {
   "cell_type": "code",
   "execution_count": 76,
   "metadata": {},
   "outputs": [
    {
     "name": "stdout",
     "output_type": "stream",
     "text": [
      "(5, 5, 3, 32)\n",
      "(5, 5, 32, 64)\n",
      "(5, 5, 64, 128)\n",
      "(5, 5, 128, 256)\n",
      "(4, 4, 256, 200)\n",
      "(1, 1, 200, 3)\n"
     ]
    }
   ],
   "source": [
    "Ws = []\n",
    "bs = []\n",
    "for layer in old_model.layers:\n",
    "    if len(layer.get_weights()) > 0:\n",
    "        W, b = layer.get_weights()\n",
    "        Ws.append(W)\n",
    "        bs.append(b)\n",
    "        \n",
    "Ws[4] = Ws[4].reshape(4,4,256,200)\n",
    "Ws[5] = Ws[5].reshape(1,1,200,3)\n",
    "\n",
    "# for w in Ws:\n",
    "#     print(w.shape)"
   ]
  },
  {
   "cell_type": "code",
   "execution_count": 108,
   "metadata": {},
   "outputs": [
    {
     "name": "stdout",
     "output_type": "stream",
     "text": [
      "_________________________________________________________________\n",
      "Layer (type)                 Output Shape              Param #   \n",
      "=================================================================\n",
      "input_8 (InputLayer)         (None, 360, 360, 3)       0         \n",
      "_________________________________________________________________\n",
      "CONV1 (Conv2D)               (None, 356, 356, 32)      2432      \n",
      "_________________________________________________________________\n",
      "MP1 (MaxPooling2D)           (None, 178, 178, 32)      0         \n",
      "_________________________________________________________________\n",
      "CONV2 (Conv2D)               (None, 174, 174, 64)      51264     \n",
      "_________________________________________________________________\n",
      "MP2 (MaxPooling2D)           (None, 87, 87, 64)        0         \n",
      "_________________________________________________________________\n",
      "CONV3 (Conv2D)               (None, 83, 83, 128)       204928    \n",
      "_________________________________________________________________\n",
      "MP3 (MaxPooling2D)           (None, 41, 41, 128)       0         \n",
      "_________________________________________________________________\n",
      "CONV4 (Conv2D)               (None, 37, 37, 256)       819456    \n",
      "_________________________________________________________________\n",
      "REP0 (Conv2D)                (None, 34, 34, 200)       819400    \n",
      "_________________________________________________________________\n",
      "REP2 (Conv2D)                (None, 34, 34, 3)         603       \n",
      "=================================================================\n",
      "Total params: 1,898,083\n",
      "Trainable params: 1,898,083\n",
      "Non-trainable params: 0\n",
      "_________________________________________________________________\n"
     ]
    },
    {
     "name": "stderr",
     "output_type": "stream",
     "text": [
      "/Users/csaravia/anaconda3/lib/python3.6/site-packages/ipykernel_launcher.py:11: UserWarning: Update your `Model` call to the Keras 2 API: `Model(inputs=Tensor(\"in..., outputs=Tensor(\"RE...)`\n",
      "  # This is added back by InteractiveShellApp.init_path()\n"
     ]
    }
   ],
   "source": [
    "img_input = layers.Input(shape=(H, W, C))\n",
    "x = layers.Conv2D(32, (5, 5), activation='relu', name=\"CONV1\")(img_input)\n",
    "x = layers.MaxPooling2D((2, 2), name=\"MP1\")(x)\n",
    "x = layers.Conv2D(64, (5, 5), activation='relu', name=\"CONV2\", weights=[Ws[1],bs[1]])(x)\n",
    "x = layers.MaxPooling2D((2, 2), name=\"MP2\")(x)\n",
    "x = layers.Conv2D(128, (5, 5), activation='relu', name=\"CONV3\", weights=[Ws[2],bs[2]])(x)\n",
    "x = layers.MaxPooling2D((2, 2), name=\"MP3\")(x)\n",
    "x = layers.Conv2D(256, (5, 5), activation='relu', name=\"CONV4\", weights=[Ws[3],bs[3]])(x)\n",
    "x = layers.Convolution2D(200, (4, 4), activation='relu', name=\"REP0\", weights=[Ws[4],bs[4]])(x)\n",
    "x = layers.Conv2D(3, (1, 1), activation='relu', name=\"REP2\", weights=[Ws[5],bs[5]])(x)\n",
    "model = models.Model(input = img_input, output = x)\n",
    "model.summary()"
   ]
  },
  {
   "cell_type": "code",
   "execution_count": null,
   "metadata": {
    "collapsed": true
   },
   "outputs": [],
   "source": [
    "# Predict using model\n",
    "predictions = model.predict(test)"
   ]
  }
 ],
 "metadata": {
  "kernelspec": {
   "display_name": "Python 3",
   "language": "python",
   "name": "python3"
  },
  "language_info": {
   "codemirror_mode": {
    "name": "ipython",
    "version": 3
   },
   "file_extension": ".py",
   "mimetype": "text/x-python",
   "name": "python",
   "nbconvert_exporter": "python",
   "pygments_lexer": "ipython3",
   "version": "3.6.3"
  }
 },
 "nbformat": 4,
 "nbformat_minor": 2
}
