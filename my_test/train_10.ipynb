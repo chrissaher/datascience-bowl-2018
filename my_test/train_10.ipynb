{
 "cells": [
  {
   "cell_type": "code",
   "execution_count": 1,
   "metadata": {},
   "outputs": [
    {
     "name": "stderr",
     "output_type": "stream",
     "text": [
      "Using TensorFlow backend.\n"
     ]
    },
    {
     "data": {
      "text/plain": [
       "'2.1.3'"
      ]
     },
     "execution_count": 1,
     "metadata": {},
     "output_type": "execute_result"
    }
   ],
   "source": [
    "import os\n",
    "import sys\n",
    "nb_dir = os.path.split(os.getcwd())[0]\n",
    "if nb_dir not in sys.path:\n",
    "    sys.path.append(nb_dir)\n",
    "from utils.helpers import *\n",
    "import keras\n",
    "from keras import layers\n",
    "from keras import models\n",
    "from keras import optimizers\n",
    "import numpy as np\n",
    "import matplotlib.pyplot as plt\n",
    "from matplotlib.pyplot import imshow\n",
    "import h5py\n",
    "%matplotlib inline\n",
    "keras.__version__"
   ]
  },
  {
   "cell_type": "code",
   "execution_count": 2,
   "metadata": {
    "collapsed": true
   },
   "outputs": [],
   "source": [
    "PADDING = 47\n",
    "images = []\n",
    "masks = []\n",
    "n_img = 2\n",
    "new_masks = []\n",
    "for i in range(10):\n",
    "    image, mask = get_image_mask_from_id(i)\n",
    "    image = image / 255.\n",
    "    new_mask = from_2_mask_to_3_mask(mask,10)\n",
    "    images.append(image)\n",
    "    masks.append(mask)\n",
    "    new_masks.append(new_mask)"
   ]
  },
  {
   "cell_type": "code",
   "execution_count": null,
   "metadata": {},
   "outputs": [
    {
     "data": {
      "image/png": "[encoded data removed]",
      "text/plain": [
       "<matplotlib.figure.Figure at 0x4eecb6ac50>"
      ]
     },
     "metadata": {},
     "output_type": "display_data"
    }
   ],
   "source": [
    "fig, m_axs = plt.subplots(3, n_img, figsize = (12, 4))\n",
    "for index, (c_im, c_lab, c_mas) in zip(range(n_img), m_axs.T):\n",
    "    c_im.imshow(images[index])\n",
    "    c_im.axis('off')\n",
    "    c_im.set_title('Microscope')\n",
    "    \n",
    "    c_lab.imshow(masks[index])\n",
    "    c_lab.axis('off')\n",
    "    c_lab.set_title('Labeled')\n",
    "    \n",
    "    c_mas.imshow(new_masks[index])\n",
    "    c_mas.axis('off')\n",
    "    c_mas.set_title('Labeled')"
   ]
  },
  {
   "cell_type": "code",
   "execution_count": null,
   "metadata": {},
   "outputs": [],
   "source": [
    "training_examples = []\n",
    "labels_examples = []\n",
    "for (image, mask) in zip(images, new_masks):\n",
    "    train, label = get_train_test(image, mask, num_classes = 3, padding=PADDING)\n",
    "    training_examples.append(train)\n",
    "    labels_examples.append(label)\n",
    "training_examples = np.array(training_examples)\n",
    "labels_examples = np.array(labels_examples)\n",
    "print(training_examples.shape)\n",
    "print(labels_examples.shape)"
   ]
  },
  {
   "cell_type": "code",
   "execution_count": null,
   "metadata": {
    "collapsed": true
   },
   "outputs": [],
   "source": [
    "xs = []\n",
    "for i in range(4):\n",
    "    xs = np.concatenate((xs, np.ones((2,2)) * (i + 1)))\n",
    "xs"
   ]
  },
  {
   "cell_type": "code",
   "execution_count": null,
   "metadata": {
    "collapsed": true
   },
   "outputs": [],
   "source": []
  }
 ],
 "metadata": {
  "kernelspec": {
   "display_name": "Python 3",
   "language": "python",
   "name": "python3"
  },
  "language_info": {
   "codemirror_mode": {
    "name": "ipython",
    "version": 3
   },
   "file_extension": ".py",
   "mimetype": "text/x-python",
   "name": "python",
   "nbconvert_exporter": "python",
   "pygments_lexer": "ipython3",
   "version": "3.6.1"
  }
 },
 "nbformat": 4,
 "nbformat_minor": 2
}
