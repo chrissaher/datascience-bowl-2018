{
 "cells": [
  {
   "cell_type": "code",
   "execution_count": 2,
   "metadata": {},
   "outputs": [
    {
     "name": "stderr",
     "output_type": "stream",
     "text": [
      "Using TensorFlow backend.\n"
     ]
    },
    {
     "data": {
      "text/plain": [
       "'2.1.3'"
      ]
     },
     "execution_count": 2,
     "metadata": {},
     "output_type": "execute_result"
    }
   ],
   "source": [
    "import os\n",
    "import sys\n",
    "nb_dir = os.path.split(os.getcwd())[0]\n",
    "if nb_dir not in sys.path:\n",
    "    sys.path.append(nb_dir)\n",
    "from utils.helpers import *\n",
    "import keras\n",
    "from keras import layers\n",
    "from keras import models\n",
    "from keras import optimizers\n",
    "import numpy as np\n",
    "from matplotlib.pyplot import imshow\n",
    "%matplotlib inline\n",
    "keras.__version__"
   ]
  },
  {
   "cell_type": "code",
   "execution_count": 5,
   "metadata": {
    "collapsed": true
   },
   "outputs": [],
   "source": [
    "IMAGE_ID = 5\n",
    "PADDING = 47"
   ]
  },
  {
   "cell_type": "code",
   "execution_count": 6,
   "metadata": {},
   "outputs": [
    {
     "data": {
      "text/plain": [
       "<matplotlib.image.AxesImage at 0x14ba916978>"
      ]
     },
     "execution_count": 6,
     "metadata": {},
     "output_type": "execute_result"
    },
    {
     "data": {
      "image/png": "[encoded data removed]",
      "text/plain": [
       "<matplotlib.figure.Figure at 0x14b7e19208>"
      ]
     },
     "metadata": {},
     "output_type": "display_data"
    }
   ],
   "source": [
    "# Get only one image\n",
    "image, mask = get_image_mask_from_id(IMAGE_ID)\n",
    "image = image / 255.\n",
    "# print(image.shape)\n",
    "# print(mask.shape)\n",
    "imshow(mask)"
   ]
  },
  {
   "cell_type": "code",
   "execution_count": 14,
   "metadata": {},
   "outputs": [
    {
     "data": {
      "text/plain": [
       "<matplotlib.image.AxesImage at 0x14b7aa0630>"
      ]
     },
     "execution_count": 14,
     "metadata": {},
     "output_type": "execute_result"
    },
    {
     "data": {
      "image/png": "[encoded data removed]",
      "text/plain": [
       "<matplotlib.figure.Figure at 0x14b7a0fdd8>"
      ]
     },
     "metadata": {},
     "output_type": "display_data"
    }
   ],
   "source": [
    "new_mask = from_2_mask_to_3_mask(mask,10)\n",
    "imshow(new_mask)"
   ]
  },
  {
   "cell_type": "code",
   "execution_count": 7,
   "metadata": {},
   "outputs": [
    {
     "name": "stdout",
     "output_type": "stream",
     "text": [
      "(76337, 95, 95, 3)\n",
      "(76337, 3)\n"
     ]
    }
   ],
   "source": [
    "# Get training input and labels from image\n",
    "train, labels = get_train_test(image, mask, num_classes = 3, padding=PADDING)\n",
    "print(train.shape)\n",
    "print(labels.shape)"
   ]
  },
  {
   "cell_type": "code",
   "execution_count": null,
   "metadata": {
    "collapsed": true
   },
   "outputs": [],
   "source": [
    "# Split the train for cross validation\n",
    "from sklearn.model_selection import train_test_split\n",
    "train_images, test_images, train_labels, test_labels = train_test_split(train, labels, test_size = 0.2)\n",
    "print(\"TRAIN : \", train_images.shape, train_labels.shape)\n",
    "print(\"TEST  : \", test_images.shape, test_labels.shape)"
   ]
  },
  {
   "cell_type": "code",
   "execution_count": null,
   "metadata": {
    "collapsed": true
   },
   "outputs": [],
   "source": [
    "import pandas as pd\n",
    "\n",
    "data = pd.DataFrame(train_labels)\n",
    "print(data[0].value_counts())\n",
    "print(data[1].value_counts())\n",
    "data.head()"
   ]
  },
  {
   "cell_type": "code",
   "execution_count": 11,
   "metadata": {},
   "outputs": [
    {
     "name": "stdout",
     "output_type": "stream",
     "text": [
      "_________________________________________________________________\n",
      "Layer (type)                 Output Shape              Param #   \n",
      "=================================================================\n",
      "CONV1 (Conv2D)               (None, 91, 91, 32)        2432      \n",
      "_________________________________________________________________\n",
      "MP1 (MaxPooling2D)           (None, 45, 45, 32)        0         \n",
      "_________________________________________________________________\n",
      "CONV2 (Conv2D)               (None, 41, 41, 64)        51264     \n",
      "_________________________________________________________________\n",
      "MP2 (MaxPooling2D)           (None, 20, 20, 64)        0         \n",
      "_________________________________________________________________\n",
      "CONV3 (Conv2D)               (None, 16, 16, 128)       204928    \n",
      "_________________________________________________________________\n",
      "MP3 (MaxPooling2D)           (None, 8, 8, 128)         0         \n",
      "_________________________________________________________________\n",
      "CONV4 (Conv2D)               (None, 4, 4, 256)         819456    \n",
      "_________________________________________________________________\n",
      "FLAT (Flatten)               (None, 4096)              0         \n",
      "_________________________________________________________________\n",
      "D1 (Dropout)                 (None, 4096)              0         \n",
      "_________________________________________________________________\n",
      "FC1 (Dense)                  (None, 200)               819400    \n",
      "_________________________________________________________________\n",
      "D2 (Dropout)                 (None, 200)               0         \n",
      "_________________________________________________________________\n",
      "FC2 (Dense)                  (None, 3)                 603       \n",
      "=================================================================\n",
      "Total params: 1,898,083\n",
      "Trainable params: 1,898,083\n",
      "Non-trainable params: 0\n",
      "_________________________________________________________________\n"
     ]
    }
   ],
   "source": [
    "# Create a Convnet\n",
    "# The architecture presented intends to replicate the one described in this paper\n",
    "# http://www.sbrt.org.br/sbrt2017/anais/1570355345.pdf\n",
    "\n",
    "model = models.Sequential()\n",
    "model.add(layers.Conv2D(32, (5, 5), activation='relu', input_shape=(95, 95, 3), name=\"CONV1\"))\n",
    "model.add(layers.MaxPooling2D((2, 2), name=\"MP1\"))\n",
    "model.add(layers.Conv2D(64, (5, 5), activation='relu', name=\"CONV2\"))\n",
    "model.add(layers.MaxPooling2D((2, 2), name=\"MP2\"))\n",
    "model.add(layers.Conv2D(128, (5, 5), activation='relu', name=\"CONV3\"))\n",
    "model.add(layers.MaxPooling2D((2, 2), name=\"MP3\"))\n",
    "model.add(layers.Conv2D(256, (5, 5), activation='relu', name=\"CONV4\"))\n",
    "model.add(layers.Flatten(name=\"FLAT\"))\n",
    "model.add(layers.Dropout(0.5, name=\"D1\"))\n",
    "model.add(layers.Dense(200, activation='relu', name=\"FC1\"))\n",
    "model.add(layers.Dropout(0.5, name=\"D2\"))\n",
    "model.add(layers.Dense(3, activation='softmax', name=\"FC2\"))\n",
    "model.summary()"
   ]
  },
  {
   "cell_type": "code",
   "execution_count": null,
   "metadata": {
    "collapsed": true
   },
   "outputs": [],
   "source": [
    "# SGD for fitting the model\n",
    "# Do not train on MAC or it will EXPLODE \n",
    "# The hyperparameters are according to the ones described on the paper\n",
    "\n",
    "SGD = optimizers.SGD(lr=0.005, decay=1e-6, momentum=0.9)\n",
    "\n",
    "model.compile(optimizer='sgd',\n",
    "              loss='binary_crossentropy',\n",
    "              metrics=['accuracy'])\n",
    "model.fit(train_images, train_labels, epochs=5, batch_size=64)"
   ]
  },
  {
   "cell_type": "code",
   "execution_count": null,
   "metadata": {
    "collapsed": true
   },
   "outputs": [],
   "source": [
    "# Check accuracy of model\n",
    "test_loss, test_acc = model.evaluate(test_images, test_labels)\n",
    "test_acc"
   ]
  },
  {
   "cell_type": "code",
   "execution_count": 11,
   "metadata": {
    "collapsed": true
   },
   "outputs": [],
   "source": [
    "# For saving the model\n",
    "model.save('new_state.h5')"
   ]
  },
  {
   "cell_type": "code",
   "execution_count": 3,
   "metadata": {},
   "outputs": [],
   "source": [
    "# For loading the model\n",
    "model = models.load_model(\"new_state.h5\")"
   ]
  },
  {
   "cell_type": "code",
   "execution_count": 7,
   "metadata": {},
   "outputs": [],
   "source": [
    "# Get test cases from original image\n",
    "# Might cause overload, careful\n",
    "test = get_test_from_image(image, padding=PADDING)"
   ]
  },
  {
   "cell_type": "code",
   "execution_count": 9,
   "metadata": {
    "collapsed": true
   },
   "outputs": [],
   "source": [
    "# Predict using model\n",
    "predictions = model.predict(test)"
   ]
  },
  {
   "cell_type": "code",
   "execution_count": 12,
   "metadata": {
    "scrolled": true
   },
   "outputs": [
    {
     "data": {
      "text/plain": [
       "<matplotlib.image.AxesImage at 0x14b79f1b00>"
      ]
     },
     "execution_count": 12,
     "metadata": {},
     "output_type": "execute_result"
    },
    {
     "data": {
      "image/png": "[encoded data removed]",
      "text/plain": [
       "<matplotlib.figure.Figure at 0x14b7229978>"
      ]
     },
     "metadata": {},
     "output_type": "display_data"
    }
   ],
   "source": [
    "# Preparing to visualized predicted output\n",
    "# Only valid for current model\n",
    "# If model is changed, this method should change too\n",
    "\n",
    "#pred = []\n",
    "#for p in predictions:\n",
    "#    pred.append(np.argmax(p))\n",
    "pred = np.argmax(predictions, axis = -1)        \n",
    "output = np.array(pred).reshape(image.shape[0], image.shape[1])\n",
    "imshow(output)"
   ]
  },
  {
   "cell_type": "code",
   "execution_count": 15,
   "metadata": {},
   "outputs": [
    {
     "data": {
      "text/plain": [
       "<matplotlib.image.AxesImage at 0x14b7b2f898>"
      ]
     },
     "execution_count": 15,
     "metadata": {},
     "output_type": "execute_result"
    },
    {
     "data": {
      "image/png": "[encoded data removed]",
      "text/plain": [
       "<matplotlib.figure.Figure at 0x14b7ab0780>"
      ]
     },
     "metadata": {},
     "output_type": "display_data"
    }
   ],
   "source": [
    "# new_mask = from_2_mask_to_3_mask(mask)\n",
    "imshow(new_mask)"
   ]
  },
  {
   "cell_type": "code",
   "execution_count": null,
   "metadata": {
    "collapsed": true
   },
   "outputs": [],
   "source": [
    "# Save images for analyzing IoU\n",
    "from PIL import Image\n",
    "\n",
    "IMG_FOLDER = \"./images\"\n",
    "create_folder_if_not_exists(IMG_FOLDER)\n",
    "\n",
    "img = Image.fromarray(from_normilzed_to_image_array(image))\n",
    "img.save(os.path.join(IMG_FOLDER, \"image.png\"))\n",
    "\n",
    "msk = Image.fromarray(from_normilzed_to_image_array(mask))\n",
    "msk.save(os.path.join(IMG_FOLDER, \"mask.png\"))\n",
    "\n",
    "prd = Image.fromarray(from_normilzed_to_image_array(output))\n",
    "prd.save(os.path.join(IMG_FOLDER, \"prediction.png\"))"
   ]
  }
 ],
 "metadata": {
  "kernelspec": {
   "display_name": "Python 3",
   "language": "python",
   "name": "python3"
  },
  "language_info": {
   "codemirror_mode": {
    "name": "ipython",
    "version": 3
   },
   "file_extension": ".py",
   "mimetype": "text/x-python",
   "name": "python",
   "nbconvert_exporter": "python",
   "pygments_lexer": "ipython3",
   "version": "3.6.1"
  }
 },
 "nbformat": 4,
 "nbformat_minor": 2
}
