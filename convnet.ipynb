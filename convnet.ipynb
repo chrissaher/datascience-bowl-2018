{
 "cells": [
  {
   "cell_type": "code",
   "execution_count": 1,
   "metadata": {},
   "outputs": [
    {
     "name": "stderr",
     "output_type": "stream",
     "text": [
      "Using TensorFlow backend.\n"
     ]
    },
    {
     "data": {
      "text/plain": [
       "'2.1.3'"
      ]
     },
     "execution_count": 1,
     "metadata": {},
     "output_type": "execute_result"
    }
   ],
   "source": [
    "import utils.constants as const\n",
    "import utils.pathbuilder as upb\n",
    "import os\n",
    "import keras\n",
    "import random\n",
    "import csv\n",
    "from PIL import Image\n",
    "import numpy as np\n",
    "import skimage.io\n",
    "from skimage.color import rgba2rgb, rgb2gray, gray2rgb\n",
    "keras.__version__"
   ]
  },
  {
   "cell_type": "code",
   "execution_count": 2,
   "metadata": {},
   "outputs": [
    {
     "name": "stdout",
     "output_type": "stream",
     "text": [
      "(360, 360, 3)\n",
      "(360, 360)\n"
     ]
    }
   ],
   "source": [
    "### Get samples\n",
    "images_id = [x for x in os.listdir(const.STAGE1_TRAIN_PATH)]\n",
    "image_id = images_id[5]\n",
    "\n",
    "image_path = os.path.join(const.STAGE1_TRAIN_PATH, image_id, 'images', '{}.png'.format(image_id))\n",
    "mask_paths = os.path.join(const.STAGE1_TRAIN_PATH, image_id, 'masks', '*.png')\n",
    "\n",
    "image = gray2rgb(rgb2gray(skimage.io.imread(image_path)))\n",
    "masks = skimage.io.imread_collection(mask_paths).concatenate()\n",
    "mask = np.zeros(image.shape[:2], np.uint16)\n",
    "\n",
    "for mask_idx in range(masks.shape[0]):\n",
    "    mask[masks[mask_idx] > 0] = 1\n",
    "\n",
    "image = np.uint8(image * 255)\n",
    "if image.mean() > 255 / 2:\n",
    "    image = 255 - image\n",
    "    \n",
    "print(image.shape)\n",
    "print(mask.shape)"
   ]
  },
  {
   "cell_type": "code",
   "execution_count": 5,
   "metadata": {},
   "outputs": [
    {
     "name": "stdout",
     "output_type": "stream",
     "text": [
      "(460, 460, 3)\n",
      "(460, 460)\n"
     ]
    }
   ],
   "source": [
    "# Adding padding to image and mask\n",
    "padding = 47\n",
    "padd_image = apply_padding(image)\n",
    "padd_mask = apply_padding(mask)\n",
    "print(padd_image.shape)\n",
    "print(padd_mask.shape)"
   ]
  },
  {
   "cell_type": "code",
   "execution_count": 6,
   "metadata": {},
   "outputs": [
    {
     "name": "stdout",
     "output_type": "stream",
     "text": [
      "------------------------------------------------\n",
      "Positive taken :  28344\n",
      "Negative taken :  28440\n",
      "Total taken    :  56784\n",
      "Train len      :  56785\n",
      "Train shape    :  (56785, 95, 95, 3)\n",
      "Label len      :  56785\n",
      "Label shape    :  (56785, 2)\n",
      "New rate       : 99.66%\n"
     ]
    }
   ],
   "source": [
    "# Counting the number of training examples in one image\n",
    "w, h, _ = image.shape\n",
    "cont_positive_samples = 0\n",
    "cont_negative_samples = 0\n",
    "\n",
    "for x in range(w):\n",
    "    for y in range(h):\n",
    "        sample = padd_mask[x - padding: x + padding + 1,y - padding : y + padding + 1]\n",
    "        isValidForTraining = np.sum(sample) > 0\n",
    "        if isValidForTraining:\n",
    "            cont_positive_samples += (padd_mask[x][y] / 255. == 1)\n",
    "            cont_negative_samples += (padd_mask[x][y] / 255. == 0)\n",
    "    \n",
    "rate_positive_negative = cont_positive_samples * 100. / cont_negative_samples\n",
    "\n",
    "all_zeros_added = False\n",
    "positive_taken = 0\n",
    "negative_taken = 0\n",
    "training_examples = []\n",
    "label_examples = []\n",
    "for x in range(w):\n",
    "    for y in range(h):\n",
    "        sample = padd_mask[x - padding: x + padding + 1,y - padding : y + padding + 1]\n",
    "        isValidForTraining = np.sum(sample) > 0\n",
    "        if isValidForTraining:\n",
    "            if (padd_mask[x][y] / 255. == 0):\n",
    "                factor = random.randint(0, 1000)\n",
    "                if factor < rate_positive_negative * 10:\n",
    "                    negative_taken += 1\n",
    "                    #img_sample = padd_image[x - padding: x + padding + 1,y - padding : y + padding + 1, :]\n",
    "                    img_sample = padd_image[x: x + 2 * padding + 1, y : y + 2 * padding + 1, :] / 255.\n",
    "                    training_examples.append(img_sample)\n",
    "                    label_examples.append(np.array([0,1]))\n",
    "            else:\n",
    "                positive_taken += 1\n",
    "                #img_sample = padd_image[x - padding: x + padding + 1, y - padding : y + padding + 1, :]\n",
    "                img_sample = padd_image[x: x + 2 * padding + 1, y : y + 2 * padding + 1, :] / 255.\n",
    "                training_examples.append(img_sample)\n",
    "                label_examples.append(np.array([1,0]))\n",
    "        else:\n",
    "            if all_zeros_added == False:\n",
    "                all_zeros_added = True\n",
    "                img_sample = padd_image[x: x + 2 * padding + 1, y : y + 2 * padding + 1, :] / 255.\n",
    "                training_examples.append(img_sample)\n",
    "                label_examples.append(np.array([0,1]))\n",
    "\n",
    "new_rate = positive_taken * 100. / negative_taken\n",
    "train = np.array(training_examples)\n",
    "labels = np.array(label_examples)\n",
    "#train = train.reshape(train.shape[0], train.shape[1], train.shape[2], 1)\n",
    "print(\"------------------------------------------------\")\n",
    "print(\"Positive taken : \", positive_taken)\n",
    "print(\"Negative taken : \", negative_taken)\n",
    "print(\"Total taken    : \", positive_taken + negative_taken)\n",
    "print(\"Train len      : \", len(training_examples))\n",
    "print(\"Train shape    : \", train.shape)\n",
    "print(\"Label len      : \", len(label_examples))\n",
    "print(\"Label shape    : \", labels.shape)\n",
    "print(\"New rate       : %.2f%%\"%new_rate)"
   ]
  },
  {
   "cell_type": "code",
   "execution_count": 7,
   "metadata": {},
   "outputs": [
    {
     "name": "stdout",
     "output_type": "stream",
     "text": [
      "(95, 95, 3)\n",
      "(95, 95, 3)\n",
      "(95, 95, 3)\n",
      "(95, 95, 3)\n",
      "(95, 95, 3)\n"
     ]
    }
   ],
   "source": [
    "for i in range(5):\n",
    "    print(np.shape(training_examples[i]))"
   ]
  },
  {
   "cell_type": "code",
   "execution_count": 8,
   "metadata": {},
   "outputs": [
    {
     "name": "stdout",
     "output_type": "stream",
     "text": [
      "TRAIN :  (45568, 95, 95, 3) (45568, 2)\n",
      "TEST  :  (11392, 95, 95, 3) (11392, 2)\n"
     ]
    }
   ],
   "source": [
    "# cross validation\n",
    "from sklearn.model_selection import train_test_split\n",
    "train_images, test_images, train_labels, test_labels = train_test_split(train, labels, test_size = 0.2)\n",
    "print(\"TRAIN : \", train_images.shape, train_labels.shape)\n",
    "print(\"TEST  : \", test_images.shape, test_labels.shape)"
   ]
  },
  {
   "cell_type": "code",
   "execution_count": null,
   "metadata": {},
   "outputs": [],
   "source": []
  },
  {
   "cell_type": "code",
   "execution_count": 9,
   "metadata": {},
   "outputs": [
    {
     "name": "stdout",
     "output_type": "stream",
     "text": [
      "_________________________________________________________________\n",
      "Layer (type)                 Output Shape              Param #   \n",
      "=================================================================\n",
      "conv2d_1 (Conv2D)            (None, 91, 91, 32)        2432      \n",
      "_________________________________________________________________\n",
      "max_pooling2d_1 (MaxPooling2 (None, 45, 45, 32)        0         \n",
      "_________________________________________________________________\n",
      "conv2d_2 (Conv2D)            (None, 41, 41, 64)        51264     \n",
      "_________________________________________________________________\n",
      "max_pooling2d_2 (MaxPooling2 (None, 20, 20, 64)        0         \n",
      "_________________________________________________________________\n",
      "conv2d_3 (Conv2D)            (None, 16, 16, 128)       204928    \n",
      "_________________________________________________________________\n",
      "max_pooling2d_3 (MaxPooling2 (None, 8, 8, 128)         0         \n",
      "_________________________________________________________________\n",
      "conv2d_4 (Conv2D)            (None, 4, 4, 256)         819456    \n",
      "_________________________________________________________________\n",
      "flatten_1 (Flatten)          (None, 4096)              0         \n",
      "_________________________________________________________________\n",
      "dropout_1 (Dropout)          (None, 4096)              0         \n",
      "_________________________________________________________________\n",
      "dense_1 (Dense)              (None, 200)               819400    \n",
      "_________________________________________________________________\n",
      "dropout_2 (Dropout)          (None, 200)               0         \n",
      "_________________________________________________________________\n",
      "dense_2 (Dense)              (None, 2)                 402       \n",
      "=================================================================\n",
      "Total params: 1,897,882\n",
      "Trainable params: 1,897,882\n",
      "Non-trainable params: 0\n",
      "_________________________________________________________________\n"
     ]
    }
   ],
   "source": [
    "# Convnet\n",
    "from keras import layers\n",
    "from keras import models\n",
    "\n",
    "model = models.Sequential()\n",
    "model.add(layers.Conv2D(32, (5, 5), activation='relu', input_shape=(95, 95, 3)))\n",
    "model.add(layers.MaxPooling2D((2, 2)))\n",
    "model.add(layers.Conv2D(64, (5, 5), activation='relu'))\n",
    "model.add(layers.MaxPooling2D((2, 2)))\n",
    "model.add(layers.Conv2D(128, (5, 5), activation='relu'))\n",
    "model.add(layers.MaxPooling2D((2, 2)))\n",
    "model.add(layers.Conv2D(256, (5, 5), activation='relu'))\n",
    "model.add(layers.Flatten())\n",
    "model.add(layers.Dropout(0.5))\n",
    "model.add(layers.Dense(200, activation='relu'))\n",
    "model.add(layers.Dropout(0.5))\n",
    "model.add(layers.Dense(2, activation='softmax'))\n",
    "model.summary()"
   ]
  },
  {
   "cell_type": "code",
   "execution_count": 10,
   "metadata": {},
   "outputs": [],
   "source": [
    "model.compile(optimizer='rmsprop',\n",
    "              loss='binary_crossentropy',\n",
    "              metrics=['accuracy'])\n",
    "model.fit(train_images, train_labels, epochs=5, batch_size=64)"
   ]
  },
  {
   "cell_type": "code",
   "execution_count": null,
   "metadata": {
    "collapsed": true
   },
   "outputs": [],
   "source": [
    "test_loss, test_acc = model.evaluate(test_images, test_labels)"
   ]
  },
  {
   "cell_type": "code",
   "execution_count": 12,
   "metadata": {},
   "outputs": [
    {
     "data": {
      "text/plain": [
       "<keras.models.Sequential at 0x24bf61bb70>"
      ]
     },
     "execution_count": 12,
     "metadata": {},
     "output_type": "execute_result"
    }
   ],
   "source": [
    "#from keras.models import load_model\n",
    "\n",
    "#model.save('train_one_image.h5')\n",
    "model = models.load_model('train_one_image.h5')\n",
    "model"
   ]
  },
  {
   "cell_type": "code",
   "execution_count": 9,
   "metadata": {},
   "outputs": [
    {
     "name": "stdout",
     "output_type": "stream",
     "text": [
      "(360, 360, 3)\n",
      "------------------------------------------------\n",
      "Test shape :  (40000,)\n",
      "------------------------------------------------\n"
     ]
    }
   ],
   "source": [
    "# Counting the number of training examples in one image\n",
    "w, h, _ = image.shape\n",
    "print(image.shape)\n",
    "to_predict = []\n",
    "\n",
    "for x in range(w):\n",
    "    for y in range(h):\n",
    "        img_sample = padd_image[x: x + 2 * padding + 1, y : y + 2 * padding + 1, :] / 255.\n",
    "        to_predict.append(img_sample)\n",
    "        \n",
    "\n",
    "test = np.array(to_predict)\n",
    "\n",
    "print(\"------------------------------------------------\")\n",
    "print(\"Test shape : \", test.shape)\n",
    "print(\"------------------------------------------------\")"
   ]
  },
  {
   "cell_type": "code",
   "execution_count": null,
   "metadata": {
    "collapsed": true
   },
   "outputs": [],
   "source": []
  },
  {
   "cell_type": "code",
   "execution_count": null,
   "metadata": {
    "collapsed": true
   },
   "outputs": [],
   "source": []
  },
  {
   "cell_type": "code",
   "execution_count": null,
   "metadata": {
    "collapsed": true
   },
   "outputs": [],
   "source": []
  },
  {
   "cell_type": "code",
   "execution_count": null,
   "metadata": {
    "collapsed": true
   },
   "outputs": [],
   "source": []
  },
  {
   "cell_type": "code",
   "execution_count": 4,
   "metadata": {
    "collapsed": true
   },
   "outputs": [],
   "source": [
    "def apply_padding(image_array, padding = 50):\n",
    "    if len(image_array.shape) == 2:\n",
    "        w, h = image_array.shape\n",
    "        padded_array = np.zeros((w + padding * 2, h + padding * 2))\n",
    "    else:\n",
    "        w, h, c = image_array.shape\n",
    "        padded_array = np.zeros((w + padding * 2, h + padding * 2, c))\n",
    "        \n",
    "    # Copy all content\n",
    "    for i in range(w):\n",
    "        for j in range (h):\n",
    "            padded_array[i + padding][j + padding] = image_array[i][j]\n",
    "            \n",
    "    # For left and right\n",
    "    for i in range(w):\n",
    "        for j in range(padding):\n",
    "            # Left\n",
    "            padded_array[padding + i][padding - j] = image_array[i][j + 1]\n",
    "            # Right\n",
    "            padded_array[padding + i][h + padding + j] = image_array[i][h - j - 1]\n",
    "            \n",
    "    # For up and down\n",
    "    for i in range(h):\n",
    "        for j in range(padding):\n",
    "            # Up\n",
    "            padded_array[padding - j][padding + i] = image_array[j + 1][i]\n",
    "            # Down\n",
    "            padded_array[w + padding + j][padding + i] = image_array[w - j - 1][i]\n",
    "            \n",
    "    # For diagonal\n",
    "    for i in range(padding):\n",
    "        for j in range(padding):\n",
    "            # Up Left\n",
    "            padded_array[i][j] = image_array[padding - i][padding - j]\n",
    "            # Up Right\n",
    "            padded_array[i][h + padding + j] = image_array[padding - i][h - j - 1]\n",
    "            # Downn Left\n",
    "            padded_array[w + padding + i][j] = image_array[w - i - 1][padding - j]\n",
    "            # Down Right\n",
    "            padded_array[w + padding + i][h + padding + j] = image_array[w - i - 1][h - j - 1]\n",
    "    \n",
    "    return np.uint8(padded_array * 255)"
   ]
  },
  {
   "cell_type": "code",
   "execution_count": null,
   "metadata": {
    "collapsed": true
   },
   "outputs": [],
   "source": []
  }
 ],
 "metadata": {
  "kernelspec": {
   "display_name": "Python 3",
   "language": "python",
   "name": "python3"
  },
  "language_info": {
   "codemirror_mode": {
    "name": "ipython",
    "version": 3
   },
   "file_extension": ".py",
   "mimetype": "text/x-python",
   "name": "python",
   "nbconvert_exporter": "python",
   "pygments_lexer": "ipython3",
   "version": "3.6.3"
  }
 },
 "nbformat": 4,
 "nbformat_minor": 2
}
