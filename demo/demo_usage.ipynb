{
 "cells": [
  {
   "cell_type": "code",
   "execution_count": 5,
   "metadata": {},
   "outputs": [
    {
     "name": "stderr",
     "output_type": "stream",
     "text": [
      "Using TensorFlow backend.\n"
     ]
    },
    {
     "data": {
      "text/plain": [
       "'2.1.3'"
      ]
     },
     "execution_count": 5,
     "metadata": {},
     "output_type": "execute_result"
    }
   ],
   "source": [
    "import os\n",
    "import sys\n",
    "nb_dir = os.path.split(os.getcwd())[0]\n",
    "if nb_dir not in sys.path:\n",
    "    sys.path.append(nb_dir)\n",
    "from utils.helpers import *\n",
    "import keras\n",
    "from keras import layers\n",
    "from keras import models\n",
    "from keras import optimizers\n",
    "import numpy as np\n",
    "from matplotlib.pyplot import imshow\n",
    "%matplotlib inline\n",
    "keras.__version__"
   ]
  },
  {
   "cell_type": "code",
   "execution_count": 3,
   "metadata": {
    "collapsed": true
   },
   "outputs": [],
   "source": [
    "IMAGE_ID = 5\n",
    "PADDING = 47"
   ]
  },
  {
   "cell_type": "code",
   "execution_count": 4,
   "metadata": {
    "collapsed": true
   },
   "outputs": [],
   "source": [
    "# Get only one image\n",
    "image, mask = get_image_mask_from_id(IMAGE_ID)\n",
    "image = image / 255.\n",
    "\n",
    "# To show the image call imshow\n",
    "imshow(image)"
   ]
  },
  {
   "cell_type": "code",
   "execution_count": null,
   "metadata": {
    "collapsed": true
   },
   "outputs": [],
   "source": [
    "# Add padding to image\n",
    "# This step can be skipped because it's called in other method\n",
    "# It's just for visualizing how padding is applied\n",
    "padd_image = apply_padding(image, padding= PADDING)\n",
    "padd_mask = apply_padding(mask, padding= PADDING)"
   ]
  },
  {
   "cell_type": "code",
   "execution_count": 5,
   "metadata": {},
   "outputs": [
    {
     "name": "stdout",
     "output_type": "stream",
     "text": [
      "(4535, 95, 95, 3)\n",
      "(4535, 3)\n"
     ]
    }
   ],
   "source": [
    "# Get training input and labels from image\n",
    "train, labels = get_train_and_labels_from_image_3_classes(image, mask, rate=0.5, padding=PADDING)\n",
    "print(train.shape)\n",
    "print(labels.shape)"
   ]
  },
  {
   "cell_type": "code",
   "execution_count": 6,
   "metadata": {},
   "outputs": [
    {
     "name": "stdout",
     "output_type": "stream",
     "text": [
      "TRAIN :  (3628, 95, 95, 3) (3628, 3)\n",
      "TEST  :  (907, 95, 95, 3) (907, 3)\n"
     ]
    }
   ],
   "source": [
    "# Split the train for cross validation\n",
    "from sklearn.model_selection import train_test_split\n",
    "train_images, test_images, train_labels, test_labels = train_test_split(train, labels, test_size = 0.2)\n",
    "print(\"TRAIN : \", train_images.shape, train_labels.shape)\n",
    "print(\"TEST  : \", test_images.shape, test_labels.shape)"
   ]
  },
  {
   "cell_type": "code",
   "execution_count": 7,
   "metadata": {},
   "outputs": [
    {
     "name": "stdout",
     "output_type": "stream",
     "text": [
      "_________________________________________________________________\n",
      "Layer (type)                 Output Shape              Param #   \n",
      "=================================================================\n",
      "conv2d_1 (Conv2D)            (None, 91, 91, 32)        2432      \n",
      "_________________________________________________________________\n",
      "max_pooling2d_1 (MaxPooling2 (None, 45, 45, 32)        0         \n",
      "_________________________________________________________________\n",
      "conv2d_2 (Conv2D)            (None, 41, 41, 64)        51264     \n",
      "_________________________________________________________________\n",
      "max_pooling2d_2 (MaxPooling2 (None, 20, 20, 64)        0         \n",
      "_________________________________________________________________\n",
      "conv2d_3 (Conv2D)            (None, 16, 16, 128)       204928    \n",
      "_________________________________________________________________\n",
      "max_pooling2d_3 (MaxPooling2 (None, 8, 8, 128)         0         \n",
      "_________________________________________________________________\n",
      "conv2d_4 (Conv2D)            (None, 4, 4, 256)         819456    \n",
      "_________________________________________________________________\n",
      "flatten_1 (Flatten)          (None, 4096)              0         \n",
      "_________________________________________________________________\n",
      "dropout_1 (Dropout)          (None, 4096)              0         \n",
      "_________________________________________________________________\n",
      "dense_1 (Dense)              (None, 200)               819400    \n",
      "_________________________________________________________________\n",
      "dropout_2 (Dropout)          (None, 200)               0         \n",
      "_________________________________________________________________\n",
      "dense_2 (Dense)              (None, 3)                 603       \n",
      "=================================================================\n",
      "Total params: 1,898,083\n",
      "Trainable params: 1,898,083\n",
      "Non-trainable params: 0\n",
      "_________________________________________________________________\n"
     ]
    }
   ],
   "source": [
    "# Create a Convnet\n",
    "# The architecture presented intends to replicate the one described in this paper\n",
    "# http://www.sbrt.org.br/sbrt2017/anais/1570355345.pdf\n",
    "\n",
    "model = models.Sequential()\n",
    "model.add(layers.Conv2D(32, (5, 5), activation='relu', input_shape=(95, 95, 3)))\n",
    "model.add(layers.MaxPooling2D((2, 2)))\n",
    "model.add(layers.Conv2D(64, (5, 5), activation='relu'))\n",
    "model.add(layers.MaxPooling2D((2, 2)))\n",
    "model.add(layers.Conv2D(128, (5, 5), activation='relu'))\n",
    "model.add(layers.MaxPooling2D((2, 2)))\n",
    "model.add(layers.Conv2D(256, (5, 5), activation='relu'))\n",
    "model.add(layers.Flatten())\n",
    "model.add(layers.Dropout(0.5))\n",
    "model.add(layers.Dense(200, activation='relu'))\n",
    "model.add(layers.Dropout(0.5))\n",
    "model.add(layers.Dense(3, activation='softmax'))\n",
    "model.summary()"
   ]
  },
  {
   "cell_type": "code",
   "execution_count": 8,
   "metadata": {},
   "outputs": [
    {
     "name": "stdout",
     "output_type": "stream",
     "text": [
      "Epoch 1/5\n",
      "3628/3628 [==============================] - 74s 20ms/step - loss: 0.6033 - acc: 0.6667\n",
      "Epoch 2/5\n",
      "3628/3628 [==============================] - 74s 20ms/step - loss: 0.5029 - acc: 0.7351\n",
      "Epoch 3/5\n",
      "3628/3628 [==============================] - 73s 20ms/step - loss: 0.3988 - acc: 0.7793\n",
      "Epoch 4/5\n",
      "3628/3628 [==============================] - 73s 20ms/step - loss: 0.3155 - acc: 0.8188\n",
      "Epoch 5/5\n",
      "3628/3628 [==============================] - 74s 20ms/step - loss: 0.2104 - acc: 0.9324\n"
     ]
    },
    {
     "data": {
      "text/plain": [
       "<keras.callbacks.History at 0x935322b908>"
      ]
     },
     "execution_count": 8,
     "metadata": {},
     "output_type": "execute_result"
    }
   ],
   "source": [
    "# SGD for fitting the model\n",
    "# Do not train on MAC or it will EXPLODE \n",
    "# The hyperparameters are according to the ones described on the paper\n",
    "\n",
    "SGD = optimizers.SGD(lr=0.005, decay=1e-6, momentum=0.9)\n",
    "\n",
    "model.compile(optimizer='sgd',\n",
    "              loss='binary_crossentropy',\n",
    "              metrics=['accuracy'])\n",
    "model.fit(train_images, train_labels, epochs=5, batch_size=64)"
   ]
  },
  {
   "cell_type": "code",
   "execution_count": 10,
   "metadata": {},
   "outputs": [
    {
     "name": "stdout",
     "output_type": "stream",
     "text": [
      "907/907 [==============================] - 7s 8ms/step\n"
     ]
    },
    {
     "data": {
      "text/plain": [
       "0.96729144325855676"
      ]
     },
     "execution_count": 10,
     "metadata": {},
     "output_type": "execute_result"
    }
   ],
   "source": [
    "# Check accuracy of model\n",
    "test_loss, test_acc = model.evaluate(test_images, test_labels)\n",
    "test_acc"
   ]
  },
  {
   "cell_type": "code",
   "execution_count": 9,
   "metadata": {
    "collapsed": true
   },
   "outputs": [],
   "source": [
    "# For saving the model\n",
    "model.save('state_3_classes.h5')"
   ]
  },
  {
   "cell_type": "code",
   "execution_count": null,
   "metadata": {
    "collapsed": true
   },
   "outputs": [],
   "source": [
    "# For loading the model\n",
    "model = models.load_model(\"state_3_classes.h5\")"
   ]
  },
  {
   "cell_type": "code",
   "execution_count": 11,
   "metadata": {
    "collapsed": true
   },
   "outputs": [],
   "source": [
    "# Get test cases from original image\n",
    "# Might cause overload, careful\n",
    "test = get_test_from_image(image, padding=PADDING)"
   ]
  },
  {
   "cell_type": "code",
   "execution_count": 12,
   "metadata": {
    "collapsed": true
   },
   "outputs": [],
   "source": [
    "# Predict using model\n",
    "predictions = model.predict(test)"
   ]
  },
  {
   "cell_type": "code",
   "execution_count": 1,
   "metadata": {
    "scrolled": true
   },
   "outputs": [],
   "source": [
    "# Preparing to visualized predicted output\n",
    "# Only valid for current model\n",
    "# If model is changed, this method should change too\n",
    "\n",
    "pred = []\n",
    "for p in predictions:\n",
    "    pred.append(np.argmax(p))\n",
    "        \n",
    "output = np.array(pred).reshape(image.shape[0], image.shape[1])\n",
    "imshow(output)"
   ]
  },
  {
   "cell_type": "code",
   "execution_count": 2,
   "metadata": {},
   "outputs": [],
   "source": [
    "# new_mask = from_2_mask_to_3_mask(mask)\n",
    "imshow(mask)"
   ]
  },
  {
   "cell_type": "code",
   "execution_count": null,
   "metadata": {
    "collapsed": true
   },
   "outputs": [],
   "source": [
    "# Save images for analyzing IoU\n",
    "from PIL import Image\n",
    "\n",
    "IMG_FOLDER = \"./images\"\n",
    "create_folder_if_not_exists(IMG_FOLDER)\n",
    "\n",
    "img = Image.fromarray(from_normilzed_to_image_array(image))\n",
    "img.save(os.path.join(IMG_FOLDER, \"image.png\"))\n",
    "\n",
    "msk = Image.fromarray(from_normilzed_to_image_array(mask))\n",
    "msk.save(os.path.join(IMG_FOLDER, \"mask.png\"))\n",
    "\n",
    "prd = Image.fromarray(from_normilzed_to_image_array(output))\n",
    "prd.save(os.path.join(IMG_FOLDER, \"prediction.png\"))"
   ]
  }
 ],
 "metadata": {
  "kernelspec": {
   "display_name": "Python 3",
   "language": "python",
   "name": "python3"
  },
  "language_info": {
   "codemirror_mode": {
    "name": "ipython",
    "version": 3
   },
   "file_extension": ".py",
   "mimetype": "text/x-python",
   "name": "python",
   "nbconvert_exporter": "python",
   "pygments_lexer": "ipython3",
   "version": "3.6.3"
  }
 },
 "nbformat": 4,
 "nbformat_minor": 2
}
